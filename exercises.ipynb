{
 "cells": [
  {
   "cell_type": "markdown",
   "id": "0dead82f",
   "metadata": {},
   "source": [
    "<font color='darkred'> Unless otherwise noted, **this notebook will not be reviewed or autograded.**</font> You are welcome to use it for scratchwork, but **only the files listed in the exercises will be checked.**\n",
    "\n",
    "---\n",
    "\n",
    "# Exercises\n",
    "\n",
    "For these exercises, add your functions to the *apputil\\.py* file. If you like, you're welcome to adjust the *app\\.py* file, but it is not required."
   ]
  },
  {
   "cell_type": "markdown",
   "id": "a7ef09a6",
   "metadata": {},
   "source": [
    "## Notes on Recursion\n",
    "\n",
    "A [recursive function](https://www.w3schools.com/python/gloss_python_function_recursion.asp) is one which calls itself.\n",
    "\n",
    "1. When the function is called, your CPU runs through each line of code until the function needs to be called again.\n",
    "2. At that point, all variables are saved in memory, and the function runs through each line of code again until the function is called (again, but with a different passed argument), and so on.\n",
    "3. Eventually, this process will stop at the \"bottom of the **stack**\", where the function doesn't get a chance to call itself again (likely because of some condition un/met by the latest passed argument).\n",
    "4. Then, your CPU will work its way back up the stack to the final result. For example, take a look at [this visual example](https://realpython.com/python-recursion/#calculate-factorial) of calculating 4!.\n",
    "\n",
    "When you write these functions, keep two things in mind:\n",
    "\n",
    "- You will need a built-in stopping point (i.e., the \"bottom\"), where your function returns some result before it calls itself.\n",
    "- **Don't think too hard about this.** Recursion can be perplexing to conceptualize when writing the code. So, when you call the function inside the function, think about it as a magical \"hidden\" function that has already done what you want it to do.\n",
    "- [Python Tutor](https://pythontutor.com/) ([editor](https://pythontutor.com/visualize.html#mode=edit)) can be a helpful resource for this exercise!\n",
    "\n",
    "## Exercise 1\n",
    "\n",
    "The Fibonacci Series starts with 0 and 1. Each of the following numbers are the sum of the previous two numbers in the series:\n",
    "\n",
    "`0 1 1 2 3 5 8 13 21 34 ...`\n",
    "\n",
    "So, `fib(9) = 34`.\n",
    "\n",
    "Write a recursive function (`fib`) that, given `n`, will return the `n`th number of the Fibonacci Series.\n",
    "\n",
    "*Test your function using Google or any other tool that can calculate the Fibonacci Series.*"
   ]
  },
  {
   "cell_type": "code",
   "execution_count": 2,
   "id": "10b9210f",
   "metadata": {},
   "outputs": [
    {
     "name": "stdout",
     "output_type": "stream",
     "text": [
      "5\n",
      "34\n"
     ]
    }
   ],
   "source": [
    "# Exercise 1: Write a recursive function that returns the nth number of the Fibonacci Series\n",
    "'''Define the fibonacci function\n",
    "fibonacci = fib_recursive'''\n",
    "def fib_recursive(n):\n",
    "# Using an if-elif-else statement, find fib_recursive starting with 0 and 1\n",
    "# If n is 0, return 0; if n is 1, return 1\n",
    "    if n == 0:\n",
    "        return 0\n",
    "    elif n == 1:\n",
    "        return 1\n",
    "    else:\n",
    "        return fib_recursive(n-1) + fib_recursive(n-2)\n",
    "    # Test the function by printing the 5th and 9th Fibonacci number\n",
    "print(fib_recursive(5))\n",
    "print(fib_recursive(9))\n"
   ]
  },
  {
   "cell_type": "markdown",
   "id": "4bef64e9",
   "metadata": {},
   "source": [
    "\n",
    "## Exercise 2\n",
    "\n",
    "Write a (single) recursive function, `to_binary()`, that [converts](https://en.wikipedia.org/wiki/Binary_number#Conversion_to_and_from_other_numeral_systems) an integer into its [binary](https://en.wikipedia.org/wiki/Binary_number) representation. So, for example:\n",
    "\n",
    "```python\n",
    "to_binary(2)   -->  10\n",
    "to_binary(12)  -->  1100\n",
    "```\n",
    "\n",
    "*Note: you can test your function with the built in `bin()` function.*"
   ]
  },
  {
   "cell_type": "code",
   "execution_count": 9,
   "id": "eb033460",
   "metadata": {},
   "outputs": [
    {
     "name": "stdout",
     "output_type": "stream",
     "text": [
      "1010\n"
     ]
    }
   ],
   "source": [
    "# Write a single recursive function, to_binary, that converts an integer into its binary representation\n",
    "# Define the function to_binary\n",
    "def to_binary(w):\n",
    "    # Base case: if w is 0, return the string '0'; if w is 1, return the string '1'\n",
    "    if w == 0:\n",
    "        return '0'\n",
    "    elif w == 1:\n",
    "        return '1'\n",
    "  # Build recursive case: Call the function recursively with the integer divided by 2 and append the remainder of the integer divided by 2\n",
    "    else:\n",
    "            return to_binary(w // 2) + str(w % 2)\n",
    "# Test the function to_binary to return a string of the binary representation of the integer\n",
    "# Test the function to_binary(10)\n",
    "print(to_binary(10))"
   ]
  },
  {
   "cell_type": "markdown",
   "id": "dd991538",
   "metadata": {},
   "source": [
    "## Exercise 3 \n",
    "\n",
    "Use the raw Bellevue Almshouse Dataset (`df_bellevue`) extracted at the top of the lab (i.e., with `pd.read_csv ...`).\n",
    "\n",
    "**Write a function for each of the following tasks. Name these functions `task_i()`** (i.e., without any input arguments).\n",
    "\n",
    "1. Return a list of all column names, *sorted* such that the first column has the *least* missing values, and the last column has the *most* missing values (use the raw column names).\n",
    "   - *Note: there is an issue with the `gender` column you'll need to remedy first ...*\n",
    "2. Return a **data frame** with two columns:\n",
    "   - the year (for each year in the data), `year`\n",
    "   - the total number of entries (immigrant admissions) for each year, `total_admissions`\n",
    "3. Return a **series** with:\n",
    "   - Index: gender (for each gender in the data)\n",
    "   - Values: the average age for the indexed gender.\n",
    "4. Return a list of the 5 most common professions *in order of prevalence* (so, the most common is first).\n",
    "\n",
    "For each of these, if there are messy data issues, use the `print` statement to explain.\n"
   ]
  },
  {
   "cell_type": "code",
   "execution_count": 30,
   "id": "5993ce51",
   "metadata": {},
   "outputs": [
    {
     "name": "stdout",
     "output_type": "stream",
     "text": [
      "      date_in first_name  last_name   age          disease profession gender  \\\n",
      "0  1847-04-17       Mary  Gallagher  28.0  recent emigrant    married      w   \n",
      "1  1847-04-08       John  Sanin (?)  19.0  recent emigrant    laborer      m   \n",
      "2  1847-04-17    Anthony      Clark  60.0  recent emigrant    laborer      m   \n",
      "3  1847-04-08   Lawrence     Feeney  32.0  recent emigrant    laborer      m   \n",
      "4  1847-04-13      Henry      Joyce  21.0  recent emigrant        NaN      m   \n",
      "\n",
      "                     children  \n",
      "0         Child Alana 10 days  \n",
      "1              Catherine 2 mo  \n",
      "2  Charles Riley afed 10 days  \n",
      "3                       Child  \n",
      "4                  Child 1 mo  \n",
      "           date_in first_name last_name          age   disease profession  \\\n",
      "count         9584       9580      9584  9534.000000      6497       8565   \n",
      "unique         653        523      3142          NaN        75        172   \n",
      "top     1847-05-24       Mary     Kelly          NaN  sickness    laborer   \n",
      "freq           113        979       137          NaN      2706       3108   \n",
      "mean           NaN        NaN       NaN    30.332604       NaN        NaN   \n",
      "std            NaN        NaN       NaN    14.179608       NaN        NaN   \n",
      "min            NaN        NaN       NaN     0.080000       NaN        NaN   \n",
      "25%            NaN        NaN       NaN    21.000000       NaN        NaN   \n",
      "50%            NaN        NaN       NaN    28.000000       NaN        NaN   \n",
      "75%            NaN        NaN       NaN    39.000000       NaN        NaN   \n",
      "max            NaN        NaN       NaN    97.000000       NaN        NaN   \n",
      "\n",
      "       gender children  \n",
      "count    9584       37  \n",
      "unique      5       36  \n",
      "top         m    Child  \n",
      "freq     4958        2  \n",
      "mean      NaN      NaN  \n",
      "std       NaN      NaN  \n",
      "min       NaN      NaN  \n",
      "25%       NaN      NaN  \n",
      "50%       NaN      NaN  \n",
      "75%       NaN      NaN  \n",
      "max       NaN      NaN  \n",
      "date_in        object\n",
      "first_name     object\n",
      "last_name      object\n",
      "age           float64\n",
      "disease        object\n",
      "profession     object\n",
      "gender         object\n",
      "children       object\n",
      "dtype: object\n",
      "date_in          0\n",
      "first_name       4\n",
      "last_name        0\n",
      "age             50\n",
      "disease       3087\n",
      "profession    1019\n",
      "gender           0\n",
      "children      9547\n",
      "dtype: int64\n"
     ]
    }
   ],
   "source": [
    "import pandas as pd\n",
    "import numpy as np\n",
    "import matplotlib.pyplot as plt \n",
    "\n",
    "# Exercise 3: Write a function for the following tasks and name them task_i()\n",
    "# Read the dataset from the URL into a DataFrame\n",
    "url = 'https://github.com/melaniewalsh/Intro-Cultural-Analytics/raw/master/book/data/bellevue_almshouse_modified.csv'\n",
    "df_bellevue = pd.read_csv(url)\n",
    "\n",
    "# Display the first few rows of the DataFrame\n",
    "print(df_bellevue.head())\n",
    "# Display the summary statistics of the DataFrame\n",
    "print(df_bellevue.describe(include='all'))\n",
    "# Display the data types of each column in the DataFrame\n",
    "print(df_bellevue.dtypes)\n",
    "# Check for missing values in the DataFrame\n",
    "print(df_bellevue.isnull().sum())"
   ]
  },
  {
   "cell_type": "code",
   "execution_count": 28,
   "id": "a72e69c2",
   "metadata": {},
   "outputs": [
    {
     "name": "stdout",
     "output_type": "stream",
     "text": [
      "['date_in', 'last_name', 'gender', 'year', 'first_name', 'age', 'profession', 'disease', 'children']\n"
     ]
    }
   ],
   "source": [
    "# Task 1: Return a list of all column names, sorted such that the first column has the least missing values, and the last column has the most missing values (use the raw column names)\n",
    "# Define the function task_i\n",
    "def task_i():\n",
    "    # Calculate the number of missing values for each column\n",
    "    # Convert missing values to null values\n",
    "    missing_values = df_bellevue.isnull().sum()\n",
    "    # Sort the columns based on the number of missing values in ascending order\n",
    "    sorted_columns = missing_values.sort_values().index.tolist()\n",
    "    return sorted_columns\n",
    "# Test the function task_i\n",
    "print(task_i())"
   ]
  },
  {
   "cell_type": "code",
   "execution_count": 27,
   "id": "b68326bb",
   "metadata": {},
   "outputs": [
    {
     "name": "stdout",
     "output_type": "stream",
     "text": [
      "   year  total_admissions\n",
      "0  1846              3073\n",
      "1  1847              6511\n"
     ]
    }
   ],
   "source": [
    "# Task 2: Return a data frame with two columns: 'year' and 'total_admissions', where 'year' is the year of admission and 'total_admissions' is the total number of admissions for that year\n",
    "# Define the function task_ii\n",
    "def task_ii():\n",
    "    # Extract the year from the 'admission_date' column and create a new 'year' column\n",
    "    df_bellevue['year'] = pd.to_datetime(df_bellevue['date_in']).dt.year\n",
    "    # Group the DataFrame by 'year' and count the number of admissions for each year\n",
    "    admissions_per_year = df_bellevue.groupby('year').size().reset_index(name='total_admissions')\n",
    "    return admissions_per_year\n",
    "# Test the function task_ii\n",
    "print(task_ii())"
   ]
  },
  {
   "cell_type": "code",
   "execution_count": 26,
   "id": "3c78ccf7",
   "metadata": {},
   "outputs": [
    {
     "name": "stdout",
     "output_type": "stream",
     "text": [
      "gender\n",
      "?          NaN\n",
      "g    59.000000\n",
      "h    56.000000\n",
      "m    31.813433\n",
      "w    28.725162\n",
      "Name: age, dtype: float64\n"
     ]
    }
   ],
   "source": [
    "# Task 3: Return a series with Index: gender (M or F) and Values: average age for the indexed gender\n",
    "# Define the function task_iii\n",
    "def task_iii():\n",
    "    # Create the series with index\n",
    "    df = pd.DataFrame(df_bellevue)\n",
    "    # Group the DataFrame by 'gender' and calculate the mean age for males and females using groupby.mean()\n",
    "    avg_age = df_bellevue.groupby('gender')['age'].mean()\n",
    "    return avg_age\n",
    "# Test the function task_iii\n",
    "print(task_iii())"
   ]
  },
  {
   "cell_type": "code",
   "execution_count": 50,
   "id": "b2c078ef",
   "metadata": {},
   "outputs": [
    {
     "name": "stdout",
     "output_type": "stream",
     "text": [
      "['laborer', 'married', 'spinster', 'widow', 'shoemaker']\n"
     ]
    }
   ],
   "source": [
    "# Task 4: Return a list of the 5 most common professions in order of prevalence (most common first)\n",
    "# Define the function task_iv\n",
    "def task_iv():\n",
    "    # Count the occurrences of each profession and get the 5 most common ones\n",
    "    most_common_professions = df_bellevue['profession'].value_counts().head(5).index.tolist()\n",
    "    return most_common_professions\n",
    "# Test the function task_iv\n",
    "print(task_iv())\n"
   ]
  },
  {
   "cell_type": "code",
   "execution_count": 54,
   "id": "f249ea9b",
   "metadata": {},
   "outputs": [
    {
     "name": "stdout",
     "output_type": "stream",
     "text": [
      "['laborer', 'married', 'spinster', 'widow', 'shoemaker']\n"
     ]
    }
   ],
   "source": [
    "# Alternative Solution for Task 4 removing missing values first\n",
    "# Task 4: Return a list of the 5 most common professions in order of prevalence (most common first)\n",
    "# Define the function task_iv\n",
    "def task_iv():\n",
    "    # Remove missing values from the 'profession' column\n",
    "    professions = df_bellevue['profession'].dropna()\n",
    "    # Count the occurrences of each profession in the 'profession' column\n",
    "    professions = df_bellevue['profession'].value_counts()\n",
    "    # Find the top 5 most common professions\n",
    "    most_common_professions = professions.head(5).index.tolist()\n",
    "    return most_common_professions\n",
    "# Test the function task_iv\n",
    "print(task_iv())"
   ]
  }
 ],
 "metadata": {
  "kernelspec": {
   "display_name": "base",
   "language": "python",
   "name": "python3"
  },
  "language_info": {
   "codemirror_mode": {
    "name": "ipython",
    "version": 3
   },
   "file_extension": ".py",
   "mimetype": "text/x-python",
   "name": "python",
   "nbconvert_exporter": "python",
   "pygments_lexer": "ipython3",
   "version": "3.11.11"
  }
 },
 "nbformat": 4,
 "nbformat_minor": 5
}
